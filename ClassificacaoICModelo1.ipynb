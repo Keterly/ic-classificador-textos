{
 "cells": [
  {
   "cell_type": "code",
   "execution_count": 55,
   "metadata": {},
   "outputs": [],
   "source": [
    "import pandas as pd\n",
    "import sqlalchemy\n",
    "from sklearn.feature_extraction.text import CountVectorizer\n",
    "from sklearn.naive_bayes import MultinomialNB\n",
    "from nltk.tokenize import TweetTokenizer\n",
    "tweet_tokenizer = TweetTokenizer() \n",
    "import nltk\n",
    "from nltk.tokenize import TweetTokenizer\n"
   ]
  },
  {
   "cell_type": "code",
   "execution_count": 56,
   "metadata": {},
   "outputs": [
    {
     "name": "stdout",
     "output_type": "stream",
     "text": [
      "Requirement already satisfied: pymysql in c:\\users\\admin\\anaconda3\\lib\\site-packages (0.10.1)Note: you may need to restart the kernel to use updated packages.\n",
      "\n"
     ]
    },
    {
     "name": "stderr",
     "output_type": "stream",
     "text": [
      "WARNING: You are using pip version 20.2.2; however, version 20.3 is available.\n",
      "You should consider upgrading via the 'C:\\Users\\Admin\\anaconda3\\python.exe -m pip install --upgrade pip' command.\n"
     ]
    }
   ],
   "source": [
    "pip install pymysql"
   ]
  },
  {
   "cell_type": "code",
   "execution_count": 57,
   "metadata": {},
   "outputs": [],
   "source": [
    "engine = sqlalchemy.create_engine('mysql+pymysql://root:''@localhost:3306/ic_comentarios')"
   ]
  },
  {
   "cell_type": "code",
   "execution_count": 58,
   "metadata": {},
   "outputs": [],
   "source": [
    "df = pd.read_sql_table('tb_comentarios',engine)"
   ]
  },
  {
   "cell_type": "code",
   "execution_count": 59,
   "metadata": {},
   "outputs": [
    {
     "data": {
      "text/html": [
       "<div>\n",
       "<style scoped>\n",
       "    .dataframe tbody tr th:only-of-type {\n",
       "        vertical-align: middle;\n",
       "    }\n",
       "\n",
       "    .dataframe tbody tr th {\n",
       "        vertical-align: top;\n",
       "    }\n",
       "\n",
       "    .dataframe thead th {\n",
       "        text-align: right;\n",
       "    }\n",
       "</style>\n",
       "<table border=\"1\" class=\"dataframe\">\n",
       "  <thead>\n",
       "    <tr style=\"text-align: right;\">\n",
       "      <th></th>\n",
       "      <th>id</th>\n",
       "      <th>comentario</th>\n",
       "      <th>emocao</th>\n",
       "    </tr>\n",
       "  </thead>\n",
       "  <tbody>\n",
       "    <tr>\n",
       "      <th>0</th>\n",
       "      <td>1</td>\n",
       "      <td>Mano eu racho de rir com esses gays ou melhor ...</td>\n",
       "      <td>preconceituoso</td>\n",
       "    </tr>\n",
       "    <tr>\n",
       "      <th>1</th>\n",
       "      <td>2</td>\n",
       "      <td>Um homem que se acha mulher... Um Hospicio est...</td>\n",
       "      <td>preconceituoso</td>\n",
       "    </tr>\n",
       "    <tr>\n",
       "      <th>2</th>\n",
       "      <td>3</td>\n",
       "      <td>Um gay recebendo camisinhas Vai usar aonde? na...</td>\n",
       "      <td>preconceituoso</td>\n",
       "    </tr>\n",
       "    <tr>\n",
       "      <th>3</th>\n",
       "      <td>4</td>\n",
       "      <td>Nao consigo ver o video, quando aperto o play ...</td>\n",
       "      <td>preconceituoso</td>\n",
       "    </tr>\n",
       "    <tr>\n",
       "      <th>4</th>\n",
       "      <td>5</td>\n",
       "      <td>Quando eu vejo uma coisa dessas eu queria que ...</td>\n",
       "      <td>preconceituoso</td>\n",
       "    </tr>\n",
       "  </tbody>\n",
       "</table>\n",
       "</div>"
      ],
      "text/plain": [
       "   id                                         comentario          emocao\n",
       "0   1  Mano eu racho de rir com esses gays ou melhor ...  preconceituoso\n",
       "1   2  Um homem que se acha mulher... Um Hospicio est...  preconceituoso\n",
       "2   3  Um gay recebendo camisinhas Vai usar aonde? na...  preconceituoso\n",
       "3   4  Nao consigo ver o video, quando aperto o play ...  preconceituoso\n",
       "4   5  Quando eu vejo uma coisa dessas eu queria que ...  preconceituoso"
      ]
     },
     "execution_count": 59,
     "metadata": {},
     "output_type": "execute_result"
    }
   ],
   "source": [
    "df.head()"
   ]
  },
  {
   "cell_type": "code",
   "execution_count": 60,
   "metadata": {},
   "outputs": [],
   "source": [
    "comentarios = df['comentario']\n",
    "emocao = df['emocao']"
   ]
  },
  {
   "cell_type": "code",
   "execution_count": 61,
   "metadata": {},
   "outputs": [],
   "source": [
    "# remoção de stopwords e extração de radical\n",
    "def stopwords(comentarios):\n",
    "    stopwords = nltk.corpus.stopwords.words('portuguese')\n",
    "    stemmer = nltk.stem.RSLPStemmer()\n",
    "    comentario = [str(stemmer.stem(p)) for p in comentarios.split() if p not in stopwords] \n",
    "    return (\" \".join(comentario))"
   ]
  },
  {
   "cell_type": "code",
   "execution_count": 62,
   "metadata": {},
   "outputs": [],
   "source": [
    "comentarios = [stopwords(i) for i in comentarios]"
   ]
  },
  {
   "cell_type": "code",
   "execution_count": 63,
   "metadata": {},
   "outputs": [],
   "source": [
    "#levando em consideração que a base já é tratada antes de ser inserida no banco, é possível utilizar somente word_tokenize(x)\n",
    "#tokenização divide uma string \n",
    "#como a maior parte dos comentários são retirados do twitter e outras redes que utilizam emojis, é necessário outra lib para \n",
    "#a lib não separa o @ do no do usuário mencionado e também não separa emojis como se fossem tokens individuais\n",
    "\n",
    "#tokenizar e frequência\n",
    "tweet_tokenizer = TweetTokenizer() \n",
    "vetorizar = CountVectorizer(analyzer=\"word\", tokenizer=tweet_tokenizer.tokenize)\n",
    "frequencia = vectorizer.fit_transform(comentarios) ##frequencia dos dados da matriz\n"
   ]
  },
  {
   "cell_type": "code",
   "execution_count": 64,
   "metadata": {},
   "outputs": [
    {
     "data": {
      "text/plain": [
       "MultinomialNB()"
      ]
     },
     "execution_count": 64,
     "metadata": {},
     "output_type": "execute_result"
    }
   ],
   "source": [
    "#modelo de machine learning alimentado com os comentarios e as emoções\n",
    "\n",
    "modelo = MultinomialNB()\n",
    "modelo.fit(frequencia,emocao)\n"
   ]
  },
  {
   "cell_type": "code",
   "execution_count": 65,
   "metadata": {},
   "outputs": [],
   "source": [
    "#testando o modelo\n",
    "\n",
    "teste = ['Eu odeio esses viadinhos', 'eu nao tenho nojo de gay', 'eu fui espancado porque sou travesti', 'eu sou lesbica', \n",
    "        'eu quis me matar por ser lesbica', 'amo traveco', 'odeio traveco', 'eu odeio lesbica', 'nojo de lesbica', \n",
    "         'eu tenho nojo de lesbica', 'nojo de sapatao', 'eu sou sapatao', 'eu vou matar esse travesti',\n",
    "         'ele quis me matar porque sou travesti', 'nojo dessa lesbica','mulher com mulher e aberracao',\n",
    "         'Deus fez a mulher para o homem e nao a mulher para mulher', 'mulher com mulher nao e pecado', \n",
    "         'mulher com mulher nao e aberracao', 'ser lesbica e pecado', 'eu nao gosto de sapatao', 'nao gosto de lesbica',\n",
    "        'gay nojento', 'lesbica nojenta', 'sapatao nojento', 'me chamaram de travesti nojento',\n",
    "         'eu nao sou um travesti nojento', 'ele quis me matar porque sou lesbica', 'vou matar travesti']"
   ]
  },
  {
   "cell_type": "code",
   "execution_count": 66,
   "metadata": {},
   "outputs": [],
   "source": [
    "#transforma em valor binario\n",
    "freq_teste = vectorizer.transform(teste)"
   ]
  },
  {
   "cell_type": "code",
   "execution_count": 67,
   "metadata": {},
   "outputs": [
    {
     "name": "stdout",
     "output_type": "stream",
     "text": [
      "Eu odeio esses viadinhos, nao preconceituoso\n",
      "eu nao tenho nojo de gay, preconceituoso\n",
      "eu fui espancado porque sou travesti, nao preconceituoso\n",
      "eu sou lesbica, nao preconceituoso\n",
      "eu quis me matar por ser lesbica, nao preconceituoso\n",
      "amo traveco, nao preconceituoso\n",
      "odeio traveco, nao preconceituoso\n",
      "eu odeio lesbica, nao preconceituoso\n",
      "nojo de lesbica, preconceituoso\n",
      "eu tenho nojo de lesbica, preconceituoso\n",
      "nojo de sapatao, preconceituoso\n",
      "eu sou sapatao, nao preconceituoso\n",
      "eu vou matar esse travesti, nao preconceituoso\n",
      "ele quis me matar porque sou travesti, nao preconceituoso\n",
      "nojo dessa lesbica, preconceituoso\n",
      "mulher com mulher e aberracao, preconceituoso\n",
      "Deus fez a mulher para o homem e nao a mulher para mulher, preconceituoso\n",
      "mulher com mulher nao e pecado, preconceituoso\n",
      "mulher com mulher nao e aberracao, preconceituoso\n",
      "ser lesbica e pecado, preconceituoso\n",
      "eu nao gosto de sapatao, nao preconceituoso\n",
      "nao gosto de lesbica, preconceituoso\n",
      "gay nojento, preconceituoso\n",
      "lesbica nojenta, preconceituoso\n",
      "sapatao nojento, nao preconceituoso\n",
      "me chamaram de travesti nojento, preconceituoso\n",
      "eu nao sou um travesti nojento, nao preconceituoso\n",
      "ele quis me matar porque sou lesbica, nao preconceituoso\n",
      "vou matar travesti, preconceituoso\n"
     ]
    }
   ],
   "source": [
    "for c, e in zip (teste, modelo.predict(freq_teste)):\n",
    "    print (c + \", \" + e)"
   ]
  },
  {
   "cell_type": "code",
   "execution_count": 68,
   "metadata": {},
   "outputs": [
    {
     "data": {
      "text/plain": [
       "array([[0.65, 0.35],\n",
       "       [0.28, 0.72],\n",
       "       [0.95, 0.05],\n",
       "       [0.95, 0.05],\n",
       "       [0.91, 0.09],\n",
       "       [0.99, 0.01],\n",
       "       [0.84, 0.16],\n",
       "       [0.85, 0.15],\n",
       "       [0.13, 0.87],\n",
       "       [0.39, 0.61],\n",
       "       [0.25, 0.75],\n",
       "       [0.98, 0.02],\n",
       "       [0.75, 0.25],\n",
       "       [0.69, 0.31],\n",
       "       [0.39, 0.61],\n",
       "       [0.03, 0.97],\n",
       "       [0.  , 1.  ],\n",
       "       [0.01, 0.99],\n",
       "       [0.03, 0.97],\n",
       "       [0.28, 0.72],\n",
       "       [0.73, 0.27],\n",
       "       [0.21, 0.79],\n",
       "       [0.45, 0.55],\n",
       "       [0.2 , 0.8 ],\n",
       "       [0.75, 0.25],\n",
       "       [0.19, 0.81],\n",
       "       [0.58, 0.42],\n",
       "       [0.81, 0.19],\n",
       "       [0.4 , 0.6 ]])"
      ]
     },
     "execution_count": 68,
     "metadata": {},
     "output_type": "execute_result"
    }
   ],
   "source": [
    "modelo.predict_proba(freq_teste).round(2)"
   ]
  },
  {
   "cell_type": "code",
   "execution_count": null,
   "metadata": {},
   "outputs": [],
   "source": []
  },
  {
   "cell_type": "code",
   "execution_count": null,
   "metadata": {},
   "outputs": [],
   "source": []
  }
 ],
 "metadata": {
  "kernelspec": {
   "display_name": "Python 3",
   "language": "python",
   "name": "python3"
  },
  "language_info": {
   "codemirror_mode": {
    "name": "ipython",
    "version": 3
   },
   "file_extension": ".py",
   "mimetype": "text/x-python",
   "name": "python",
   "nbconvert_exporter": "python",
   "pygments_lexer": "ipython3",
   "version": "3.8.3"
  }
 },
 "nbformat": 4,
 "nbformat_minor": 4
}
